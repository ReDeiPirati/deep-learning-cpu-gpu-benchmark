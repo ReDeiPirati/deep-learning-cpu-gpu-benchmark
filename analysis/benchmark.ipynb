{
 "cells": [
  {
   "cell_type": "markdown",
   "metadata": {},
   "source": [
    "# FloydHub vs AWS vs GCE\n",
    "\n",
    "This notebook is used to visualize the results between the different Cloud Service instance on Keras with TF as backend.\n",
    "\n",
    "These are the instance we are comparing:\n",
    "\n",
    "- GPU: 4 core vCPU, NVIDIA K80, 12 GB VRAM, 60GB RAM \n",
    "- CPU: 2 core (vCPU), 8GM RAM\n",
    "\n",
    "Note: plotly does not save local png file, I have to find a workaround."
   ]
  },
  {
   "cell_type": "markdown",
   "metadata": {},
   "source": [
    "#### Table of contents\n",
    "\n",
    "- [MNIST MLP](#MLP)\n",
    "- [MNIST CNN](#CNN)\n",
    "- [CIFAR-10 CNN](#CNN2)\n",
    "- [IMDB Bi-dir LSTM](#BI)\n",
    "- [IMDB Fasttext](#FAST)\n",
    "- [LSTM text gen](#LSTM)"
   ]
  },
  {
   "cell_type": "code",
   "execution_count": 6,
   "metadata": {},
   "outputs": [
    {
     "name": "stdout",
     "output_type": "stream",
     "text": [
      "2.2.1\n"
     ]
    },
    {
     "data": {
      "text/html": [
       "<script>requirejs.config({paths: { 'plotly': ['https://cdn.plot.ly/plotly-latest.min']},});if(!window.Plotly) {{require(['plotly'],function(plotly) {window.Plotly=plotly;});}}</script>"
      ],
      "text/vnd.plotly.v1+html": [
       "<script>requirejs.config({paths: { 'plotly': ['https://cdn.plot.ly/plotly-latest.min']},});if(!window.Plotly) {{require(['plotly'],function(plotly) {window.Plotly=plotly;});}}</script>"
      ]
     },
     "metadata": {},
     "output_type": "display_data"
    }
   ],
   "source": [
    "# Dep\n",
    "import plotly\n",
    "import numpy as np\n",
    "import pandas as pd\n",
    "from plotly import __version__\n",
    "import plotly.graph_objs as go\n",
    "from plotly.offline import download_plotlyjs, init_notebook_mode, plot, iplot\n",
    "\n",
    "print (__version__) # requires version >= 1.9.0\n",
    "plotly.offline.init_notebook_mode(connected=True)"
   ]
  },
  {
   "cell_type": "code",
   "execution_count": 7,
   "metadata": {
    "collapsed": true
   },
   "outputs": [],
   "source": [
    "# Supporting function\n",
    "\n",
    "def from_csv_to_time(csv_file):\n",
    "    \"\"\"Take csv metrics file and return the total training time\"\"\"\n",
    "    df = pd.read_csv(csv_file)\n",
    "    #df.head(n=10)\n",
    "    time_col = df[['elapsed']]\n",
    "    total_time = time_col.sum(axis=0) / 60 # Get minutes\n",
    "    return np.asscalar(total_time.values)\n",
    "    \n",
    "    \n",
    "def plot_total_time(fh_time, gce_time, title):\n",
    "    \"\"\"Plot the total training time comparison\"\"\"\n",
    "    trace1 = go.Bar(\n",
    "        x=['CPU', 'GPU'],\n",
    "        y=fh_time,\n",
    "        name='FloydHub'\n",
    "    )\n",
    "    # trace2 = go.Bar(\n",
    "    #     x=['CPU', 'GPU'],\n",
    "    #     y=[12, 18, 29],\n",
    "    #     name='AWS'\n",
    "    # )\n",
    "    trace2 = go.Bar(\n",
    "        x=['GPU'],\n",
    "        y=gce_time,\n",
    "        name='Google Cloud Engine'\n",
    "    )\n",
    "\n",
    "    # data = [trace1, trace2, trace3]\n",
    "    data = [trace1, trace2]\n",
    "    layout = go.Layout(\n",
    "        barmode='group',\n",
    "        title=title,\n",
    "        yaxis={'title': 'Time in minutes'},\n",
    "        width=1\n",
    "    )\n",
    "\n",
    "\n",
    "    fig = go.Figure(data=data, layout=layout)\n",
    "    iplot(fig, filename='grouped-bar')"
   ]
  },
  {
   "cell_type": "markdown",
   "metadata": {},
   "source": [
    "## 1. MNIST MLP\n",
    "<a name=\"MLP\"></a>\n",
    "\n",
    "FC(784, 512)[ReLU][Dropout 0.2] -> FC(512, 512)[ReLU][Dropout 0.2] -> FC(512, 10)[Softmax]"
   ]
  },
  {
   "cell_type": "code",
   "execution_count": 8,
   "metadata": {},
   "outputs": [
    {
     "data": {
      "application/vnd.plotly.v1+json": {
       "data": [
        {
         "name": "FloydHub",
         "type": "bar",
         "x": [
          "CPU",
          "GPU"
         ],
         "y": [
          3.0641274372736613,
          0.7457589109738668
         ]
        },
        {
         "name": "Google Cloud Engine",
         "type": "bar",
         "x": [
          "GPU"
         ],
         "y": [
          1.084945261478424
         ]
        }
       ],
       "layout": {
        "barmode": "group",
        "title": "MNIST-MLP",
        "width": 1,
        "yaxis": {
         "title": "Time in minutes"
        }
       }
      },
      "text/html": [
       "<div id=\"9326c4d8-8bed-47cb-98de-7b07534e8111\" style=\"height: 525px; width: 1px;\" class=\"plotly-graph-div\"></div><script type=\"text/javascript\">require([\"plotly\"], function(Plotly) { window.PLOTLYENV=window.PLOTLYENV || {};window.PLOTLYENV.BASE_URL=\"https://plot.ly\";Plotly.newPlot(\"9326c4d8-8bed-47cb-98de-7b07534e8111\", [{\"y\": [3.0641274372736613, 0.7457589109738668], \"name\": \"FloydHub\", \"type\": \"bar\", \"x\": [\"CPU\", \"GPU\"]}, {\"y\": [1.084945261478424], \"name\": \"Google Cloud Engine\", \"type\": \"bar\", \"x\": [\"GPU\"]}], {\"title\": \"MNIST-MLP\", \"barmode\": \"group\", \"width\": 1, \"yaxis\": {\"title\": \"Time in minutes\"}}, {\"linkText\": \"Export to plot.ly\", \"showLink\": true})});</script>"
      ],
      "text/vnd.plotly.v1+html": [
       "<div id=\"9326c4d8-8bed-47cb-98de-7b07534e8111\" style=\"height: 525px; width: 1px;\" class=\"plotly-graph-div\"></div><script type=\"text/javascript\">require([\"plotly\"], function(Plotly) { window.PLOTLYENV=window.PLOTLYENV || {};window.PLOTLYENV.BASE_URL=\"https://plot.ly\";Plotly.newPlot(\"9326c4d8-8bed-47cb-98de-7b07534e8111\", [{\"y\": [3.0641274372736613, 0.7457589109738668], \"name\": \"FloydHub\", \"type\": \"bar\", \"x\": [\"CPU\", \"GPU\"]}, {\"y\": [1.084945261478424], \"name\": \"Google Cloud Engine\", \"type\": \"bar\", \"x\": [\"GPU\"]}], {\"title\": \"MNIST-MLP\", \"barmode\": \"group\", \"width\": 1, \"yaxis\": {\"title\": \"Time in minutes\"}}, {\"linkText\": \"Export to plot.ly\", \"showLink\": true})});</script>"
      ]
     },
     "metadata": {},
     "output_type": "display_data"
    }
   ],
   "source": [
    "# Extract info from CSV\n",
    "fh_mnist_mlp_file = ['../logs/fh/cpu/mnist_mlp_tensorflow.csv',\n",
    "                     '../logs/fh/gpu/mnist_mlp_tensorflow.csv']\n",
    "\n",
    "gce_mnist_mlp_file = ['../logs/gce/gpu/mnist_mlp_tensorflow.csv']\n",
    "\n",
    "fh_time = []\n",
    "for csv_file in fh_mnist_mlp_file:\n",
    "    fh_time.append(from_csv_to_time(csv_file))\n",
    "\n",
    "gce_time = []\n",
    "for csv_file in gce_mnist_mlp_file:\n",
    "    gce_time.append(from_csv_to_time(csv_file))\n",
    "    \n",
    "# Plot\n",
    "plot_total_time(fh_time, gce_time, title=\"MNIST-MLP\")"
   ]
  },
  {
   "cell_type": "markdown",
   "metadata": {},
   "source": [
    "## 2. MNIST ConvNet\n",
    "<a name=\"CNN\"></a>\n",
    "\n",
    "Conv(32,3,3)[ReLU] -> Conv(64,3,3)[ReLU] -> MaxPool(2,2)[Dropout 0.25] ->\n",
    "FC(_, 128)[ReLU][Dropout 0.5] -> FC(128, 10)[Softmax]"
   ]
  },
  {
   "cell_type": "code",
   "execution_count": 9,
   "metadata": {},
   "outputs": [
    {
     "data": {
      "application/vnd.plotly.v1+json": {
       "data": [
        {
         "name": "FloydHub",
         "type": "bar",
         "x": [
          "CPU",
          "GPU"
         ],
         "y": [
          34.190385735034944,
          3.1080724636713666
         ]
        },
        {
         "name": "Google Cloud Engine",
         "type": "bar",
         "x": [
          "GPU"
         ],
         "y": [
          2.878372013568878
         ]
        }
       ],
       "layout": {
        "barmode": "group",
        "title": "MNIST-CNN",
        "width": 1,
        "yaxis": {
         "title": "Time in minutes"
        }
       }
      },
      "text/html": [
       "<div id=\"50d7cbde-c9ab-46fb-a779-b26b21026684\" style=\"height: 525px; width: 1px;\" class=\"plotly-graph-div\"></div><script type=\"text/javascript\">require([\"plotly\"], function(Plotly) { window.PLOTLYENV=window.PLOTLYENV || {};window.PLOTLYENV.BASE_URL=\"https://plot.ly\";Plotly.newPlot(\"50d7cbde-c9ab-46fb-a779-b26b21026684\", [{\"y\": [34.190385735034944, 3.1080724636713666], \"name\": \"FloydHub\", \"type\": \"bar\", \"x\": [\"CPU\", \"GPU\"]}, {\"y\": [2.878372013568878], \"name\": \"Google Cloud Engine\", \"type\": \"bar\", \"x\": [\"GPU\"]}], {\"title\": \"MNIST-CNN\", \"barmode\": \"group\", \"width\": 1, \"yaxis\": {\"title\": \"Time in minutes\"}}, {\"linkText\": \"Export to plot.ly\", \"showLink\": true})});</script>"
      ],
      "text/vnd.plotly.v1+html": [
       "<div id=\"50d7cbde-c9ab-46fb-a779-b26b21026684\" style=\"height: 525px; width: 1px;\" class=\"plotly-graph-div\"></div><script type=\"text/javascript\">require([\"plotly\"], function(Plotly) { window.PLOTLYENV=window.PLOTLYENV || {};window.PLOTLYENV.BASE_URL=\"https://plot.ly\";Plotly.newPlot(\"50d7cbde-c9ab-46fb-a779-b26b21026684\", [{\"y\": [34.190385735034944, 3.1080724636713666], \"name\": \"FloydHub\", \"type\": \"bar\", \"x\": [\"CPU\", \"GPU\"]}, {\"y\": [2.878372013568878], \"name\": \"Google Cloud Engine\", \"type\": \"bar\", \"x\": [\"GPU\"]}], {\"title\": \"MNIST-CNN\", \"barmode\": \"group\", \"width\": 1, \"yaxis\": {\"title\": \"Time in minutes\"}}, {\"linkText\": \"Export to plot.ly\", \"showLink\": true})});</script>"
      ]
     },
     "metadata": {},
     "output_type": "display_data"
    }
   ],
   "source": [
    "# Extract info from CSV\n",
    "fh_mnist_mlp_file = ['../logs/fh/cpu/mnist_cnn_tensorflow.csv',\n",
    "                     '../logs/fh/gpu/mnist_cnn_tensorflow.csv']\n",
    "\n",
    "gce_mnist_mlp_file = ['../logs/gce/gpu/mnist_cnn_tensorflow.csv']\n",
    "\n",
    "fh_time = []\n",
    "for csv_file in fh_mnist_mlp_file:\n",
    "    fh_time.append(from_csv_to_time(csv_file))\n",
    "\n",
    "gce_time = []\n",
    "for csv_file in gce_mnist_mlp_file:\n",
    "    gce_time.append(from_csv_to_time(csv_file))\n",
    "    \n",
    "# Plot\n",
    "plot_total_time(fh_time, gce_time, title=\"MNIST-CNN\")"
   ]
  },
  {
   "cell_type": "markdown",
   "metadata": {},
   "source": [
    "## 3. CIFAR-10 CNN\n",
    "<a name=\"CNN2\"></a>\n",
    "\n",
    "Conv(32,3,3)[ReLU] -> Conv(32,3,3)[ReLU] -> MaxPool(2,2)[Dropout 0.25] ->\n",
    "Conv(64,3,3)[ReLU] -> Conv(64,3,3)[ReLU] -> MaxPool(2,2)[Dropout 0.25] ->\n",
    "FC(_, 512)[ReLU][Dropout 0.5] -> FC(512, 10)[Softmax]"
   ]
  },
  {
   "cell_type": "code",
   "execution_count": 11,
   "metadata": {},
   "outputs": [
    {
     "data": {
      "application/vnd.plotly.v1+json": {
       "data": [
        {
         "name": "FloydHub",
         "type": "bar",
         "x": [
          "CPU",
          "GPU"
         ],
         "y": [
          104.06394564708074,
          7.62623131275177
         ]
        },
        {
         "name": "Google Cloud Engine",
         "type": "bar",
         "x": [
          "GPU"
         ],
         "y": [
          12.719700837135315
         ]
        }
       ],
       "layout": {
        "barmode": "group",
        "title": "CIFAR-10",
        "width": 1,
        "yaxis": {
         "title": "Time in minutes"
        }
       }
      },
      "text/html": [
       "<div id=\"e114f7a0-a439-4098-8da8-7f313159a99e\" style=\"height: 525px; width: 1px;\" class=\"plotly-graph-div\"></div><script type=\"text/javascript\">require([\"plotly\"], function(Plotly) { window.PLOTLYENV=window.PLOTLYENV || {};window.PLOTLYENV.BASE_URL=\"https://plot.ly\";Plotly.newPlot(\"e114f7a0-a439-4098-8da8-7f313159a99e\", [{\"y\": [104.06394564708074, 7.62623131275177], \"name\": \"FloydHub\", \"type\": \"bar\", \"x\": [\"CPU\", \"GPU\"]}, {\"y\": [12.719700837135315], \"name\": \"Google Cloud Engine\", \"type\": \"bar\", \"x\": [\"GPU\"]}], {\"title\": \"CIFAR-10\", \"barmode\": \"group\", \"width\": 1, \"yaxis\": {\"title\": \"Time in minutes\"}}, {\"linkText\": \"Export to plot.ly\", \"showLink\": true})});</script>"
      ],
      "text/vnd.plotly.v1+html": [
       "<div id=\"e114f7a0-a439-4098-8da8-7f313159a99e\" style=\"height: 525px; width: 1px;\" class=\"plotly-graph-div\"></div><script type=\"text/javascript\">require([\"plotly\"], function(Plotly) { window.PLOTLYENV=window.PLOTLYENV || {};window.PLOTLYENV.BASE_URL=\"https://plot.ly\";Plotly.newPlot(\"e114f7a0-a439-4098-8da8-7f313159a99e\", [{\"y\": [104.06394564708074, 7.62623131275177], \"name\": \"FloydHub\", \"type\": \"bar\", \"x\": [\"CPU\", \"GPU\"]}, {\"y\": [12.719700837135315], \"name\": \"Google Cloud Engine\", \"type\": \"bar\", \"x\": [\"GPU\"]}], {\"title\": \"CIFAR-10\", \"barmode\": \"group\", \"width\": 1, \"yaxis\": {\"title\": \"Time in minutes\"}}, {\"linkText\": \"Export to plot.ly\", \"showLink\": true})});</script>"
      ]
     },
     "metadata": {},
     "output_type": "display_data"
    }
   ],
   "source": [
    "# Extract info from CSV\n",
    "fh_mnist_mlp_file = ['../logs/fh/cpu/cifar10_cnn_tensorflow.csv',\n",
    "                     '../logs/fh/gpu/cifar10_cnn_tensorflow.csv']\n",
    "\n",
    "gce_mnist_mlp_file = ['../logs/gce/gpu/cifar10_cnn_tensorflow.csv']\n",
    "\n",
    "fh_time = []\n",
    "for csv_file in fh_mnist_mlp_file:\n",
    "    fh_time.append(from_csv_to_time(csv_file))\n",
    "\n",
    "gce_time = []\n",
    "for csv_file in gce_mnist_mlp_file:\n",
    "    gce_time.append(from_csv_to_time(csv_file))\n",
    "    \n",
    "# Plot\n",
    "plot_total_time(fh_time, gce_time, title=\"CIFAR-10\")"
   ]
  },
  {
   "cell_type": "markdown",
   "metadata": {},
   "source": [
    "## 4. IMDB Bi-dir LSTM\n",
    "<a name=\"BI\"></a>\n",
    "\n",
    "Embedding(20000, 128) -> LSTM()[tanh][Dropout 0.5] -> FC(64,1)[Sigmoid]"
   ]
  },
  {
   "cell_type": "code",
   "execution_count": 12,
   "metadata": {},
   "outputs": [
    {
     "data": {
      "application/vnd.plotly.v1+json": {
       "data": [
        {
         "name": "FloydHub",
         "type": "bar",
         "x": [
          "CPU",
          "GPU"
         ],
         "y": [
          23.365572627385458,
          17.53390767176946
         ]
        },
        {
         "name": "Google Cloud Engine",
         "type": "bar",
         "x": [
          "GPU"
         ],
         "y": [
          20.490289541085563
         ]
        }
       ],
       "layout": {
        "barmode": "group",
        "title": "IMDB Bi-dir LSTM",
        "width": 1,
        "yaxis": {
         "title": "Time in minutes"
        }
       }
      },
      "text/html": [
       "<div id=\"73669fd6-e52a-442f-9371-72f81cec4d0f\" style=\"height: 525px; width: 1px;\" class=\"plotly-graph-div\"></div><script type=\"text/javascript\">require([\"plotly\"], function(Plotly) { window.PLOTLYENV=window.PLOTLYENV || {};window.PLOTLYENV.BASE_URL=\"https://plot.ly\";Plotly.newPlot(\"73669fd6-e52a-442f-9371-72f81cec4d0f\", [{\"y\": [23.365572627385458, 17.53390767176946], \"name\": \"FloydHub\", \"type\": \"bar\", \"x\": [\"CPU\", \"GPU\"]}, {\"y\": [20.490289541085563], \"name\": \"Google Cloud Engine\", \"type\": \"bar\", \"x\": [\"GPU\"]}], {\"title\": \"IMDB Bi-dir LSTM\", \"barmode\": \"group\", \"width\": 1, \"yaxis\": {\"title\": \"Time in minutes\"}}, {\"linkText\": \"Export to plot.ly\", \"showLink\": true})});</script>"
      ],
      "text/vnd.plotly.v1+html": [
       "<div id=\"73669fd6-e52a-442f-9371-72f81cec4d0f\" style=\"height: 525px; width: 1px;\" class=\"plotly-graph-div\"></div><script type=\"text/javascript\">require([\"plotly\"], function(Plotly) { window.PLOTLYENV=window.PLOTLYENV || {};window.PLOTLYENV.BASE_URL=\"https://plot.ly\";Plotly.newPlot(\"73669fd6-e52a-442f-9371-72f81cec4d0f\", [{\"y\": [23.365572627385458, 17.53390767176946], \"name\": \"FloydHub\", \"type\": \"bar\", \"x\": [\"CPU\", \"GPU\"]}, {\"y\": [20.490289541085563], \"name\": \"Google Cloud Engine\", \"type\": \"bar\", \"x\": [\"GPU\"]}], {\"title\": \"IMDB Bi-dir LSTM\", \"barmode\": \"group\", \"width\": 1, \"yaxis\": {\"title\": \"Time in minutes\"}}, {\"linkText\": \"Export to plot.ly\", \"showLink\": true})});</script>"
      ]
     },
     "metadata": {},
     "output_type": "display_data"
    }
   ],
   "source": [
    "# Extract info from CSV\n",
    "fh_mnist_mlp_file = ['../logs/fh/cpu/imdb_bidirectional_lstm_tensorflow.csv',\n",
    "                     '../logs/fh/gpu/imdb_bidirectional_lstm_tensorflow.csv']\n",
    "\n",
    "gce_mnist_mlp_file = ['../logs/gce/gpu/imdb_bidirectional_lstm_tensorflow.csv']\n",
    "\n",
    "fh_time = []\n",
    "for csv_file in fh_mnist_mlp_file:\n",
    "    fh_time.append(from_csv_to_time(csv_file))\n",
    "\n",
    "gce_time = []\n",
    "for csv_file in gce_mnist_mlp_file:\n",
    "    gce_time.append(from_csv_to_time(csv_file))\n",
    "    \n",
    "# Plot\n",
    "plot_total_time(fh_time, gce_time, title=\"IMDB Bi-dir LSTM\")"
   ]
  },
  {
   "cell_type": "markdown",
   "metadata": {},
   "source": [
    "## 5. IMDB Fasttext\n",
    "<a name=\"FAST\"></a>\n",
    "\n",
    "Embedding(20000, 50) -> GlobalAveragePooling1D() -> FC(50, 1)[Sigmoid]"
   ]
  },
  {
   "cell_type": "code",
   "execution_count": 13,
   "metadata": {},
   "outputs": [
    {
     "data": {
      "application/vnd.plotly.v1+json": {
       "data": [
        {
         "name": "FloydHub",
         "type": "bar",
         "x": [
          "CPU",
          "GPU"
         ],
         "y": [
          61.328041684627536,
          5.02721939086914
         ]
        },
        {
         "name": "Google Cloud Engine",
         "type": "bar",
         "x": [
          "GPU"
         ],
         "y": [
          5.525328067938487
         ]
        }
       ],
       "layout": {
        "barmode": "group",
        "title": "IMDB Fasttext",
        "width": 1,
        "yaxis": {
         "title": "Time in minutes"
        }
       }
      },
      "text/html": [
       "<div id=\"2b1e7173-248f-4742-afb0-449c370c8c89\" style=\"height: 525px; width: 1px;\" class=\"plotly-graph-div\"></div><script type=\"text/javascript\">require([\"plotly\"], function(Plotly) { window.PLOTLYENV=window.PLOTLYENV || {};window.PLOTLYENV.BASE_URL=\"https://plot.ly\";Plotly.newPlot(\"2b1e7173-248f-4742-afb0-449c370c8c89\", [{\"y\": [61.328041684627536, 5.02721939086914], \"name\": \"FloydHub\", \"type\": \"bar\", \"x\": [\"CPU\", \"GPU\"]}, {\"y\": [5.525328067938487], \"name\": \"Google Cloud Engine\", \"type\": \"bar\", \"x\": [\"GPU\"]}], {\"title\": \"IMDB Fasttext\", \"barmode\": \"group\", \"width\": 1, \"yaxis\": {\"title\": \"Time in minutes\"}}, {\"linkText\": \"Export to plot.ly\", \"showLink\": true})});</script>"
      ],
      "text/vnd.plotly.v1+html": [
       "<div id=\"2b1e7173-248f-4742-afb0-449c370c8c89\" style=\"height: 525px; width: 1px;\" class=\"plotly-graph-div\"></div><script type=\"text/javascript\">require([\"plotly\"], function(Plotly) { window.PLOTLYENV=window.PLOTLYENV || {};window.PLOTLYENV.BASE_URL=\"https://plot.ly\";Plotly.newPlot(\"2b1e7173-248f-4742-afb0-449c370c8c89\", [{\"y\": [61.328041684627536, 5.02721939086914], \"name\": \"FloydHub\", \"type\": \"bar\", \"x\": [\"CPU\", \"GPU\"]}, {\"y\": [5.525328067938487], \"name\": \"Google Cloud Engine\", \"type\": \"bar\", \"x\": [\"GPU\"]}], {\"title\": \"IMDB Fasttext\", \"barmode\": \"group\", \"width\": 1, \"yaxis\": {\"title\": \"Time in minutes\"}}, {\"linkText\": \"Export to plot.ly\", \"showLink\": true})});</script>"
      ]
     },
     "metadata": {},
     "output_type": "display_data"
    }
   ],
   "source": [
    "# Extract info from CSV\n",
    "fh_mnist_mlp_file = ['../logs/fh/cpu/imdb_fasttext_tensorflow.csv',\n",
    "                     '../logs/fh/gpu/imdb_fasttext_tensorflow.csv']\n",
    "\n",
    "gce_mnist_mlp_file = ['../logs/gce/gpu/imdb_fasttext_tensorflow.csv']\n",
    "\n",
    "fh_time = []\n",
    "for csv_file in fh_mnist_mlp_file:\n",
    "    fh_time.append(from_csv_to_time(csv_file))\n",
    "\n",
    "gce_time = []\n",
    "for csv_file in gce_mnist_mlp_file:\n",
    "    gce_time.append(from_csv_to_time(csv_file))\n",
    "    \n",
    "# Plot\n",
    "plot_total_time(fh_time, gce_time, title=\"IMDB Fasttext\")"
   ]
  },
  {
   "cell_type": "markdown",
   "metadata": {},
   "source": [
    "## 6. LSTM text gen\n",
    "<a name=\"LSTM\"></a>\n",
    "\n",
    "LSTM -> FC()[softmax]"
   ]
  },
  {
   "cell_type": "code",
   "execution_count": 14,
   "metadata": {},
   "outputs": [
    {
     "data": {
      "application/vnd.plotly.v1+json": {
       "data": [
        {
         "name": "FloydHub",
         "type": "bar",
         "x": [
          "CPU",
          "GPU"
         ],
         "y": [
          47.85302762190501,
          11.864896392822265
         ]
        },
        {
         "name": "Google Cloud Engine",
         "type": "bar",
         "x": [
          "GPU"
         ],
         "y": [
          15.957319362958271
         ]
        }
       ],
       "layout": {
        "barmode": "group",
        "title": "LSTM text generation",
        "width": 1,
        "yaxis": {
         "title": "Time in minutes"
        }
       }
      },
      "text/html": [
       "<div id=\"fa6d0599-25dd-4b35-9ff4-d9c65077b3b4\" style=\"height: 525px; width: 1px;\" class=\"plotly-graph-div\"></div><script type=\"text/javascript\">require([\"plotly\"], function(Plotly) { window.PLOTLYENV=window.PLOTLYENV || {};window.PLOTLYENV.BASE_URL=\"https://plot.ly\";Plotly.newPlot(\"fa6d0599-25dd-4b35-9ff4-d9c65077b3b4\", [{\"y\": [47.85302762190501, 11.864896392822265], \"name\": \"FloydHub\", \"type\": \"bar\", \"x\": [\"CPU\", \"GPU\"]}, {\"y\": [15.957319362958271], \"name\": \"Google Cloud Engine\", \"type\": \"bar\", \"x\": [\"GPU\"]}], {\"title\": \"LSTM text generation\", \"barmode\": \"group\", \"width\": 1, \"yaxis\": {\"title\": \"Time in minutes\"}}, {\"linkText\": \"Export to plot.ly\", \"showLink\": true})});</script>"
      ],
      "text/vnd.plotly.v1+html": [
       "<div id=\"fa6d0599-25dd-4b35-9ff4-d9c65077b3b4\" style=\"height: 525px; width: 1px;\" class=\"plotly-graph-div\"></div><script type=\"text/javascript\">require([\"plotly\"], function(Plotly) { window.PLOTLYENV=window.PLOTLYENV || {};window.PLOTLYENV.BASE_URL=\"https://plot.ly\";Plotly.newPlot(\"fa6d0599-25dd-4b35-9ff4-d9c65077b3b4\", [{\"y\": [47.85302762190501, 11.864896392822265], \"name\": \"FloydHub\", \"type\": \"bar\", \"x\": [\"CPU\", \"GPU\"]}, {\"y\": [15.957319362958271], \"name\": \"Google Cloud Engine\", \"type\": \"bar\", \"x\": [\"GPU\"]}], {\"title\": \"LSTM text generation\", \"barmode\": \"group\", \"width\": 1, \"yaxis\": {\"title\": \"Time in minutes\"}}, {\"linkText\": \"Export to plot.ly\", \"showLink\": true})});</script>"
      ]
     },
     "metadata": {},
     "output_type": "display_data"
    }
   ],
   "source": [
    "# Extract info from CSV\n",
    "fh_mnist_mlp_file = ['../logs/fh/cpu/lstm_text_generation_tensorflow.csv',\n",
    "                     '../logs/fh/gpu/lstm_text_generation_tensorflow.csv']\n",
    "\n",
    "gce_mnist_mlp_file = ['../logs/gce/gpu/lstm_text_generation_tensorflow.csv']\n",
    "\n",
    "fh_time = []\n",
    "for csv_file in fh_mnist_mlp_file:\n",
    "    fh_time.append(from_csv_to_time(csv_file))\n",
    "\n",
    "gce_time = []\n",
    "for csv_file in gce_mnist_mlp_file:\n",
    "    gce_time.append(from_csv_to_time(csv_file))\n",
    "    \n",
    "# Plot\n",
    "plot_total_time(fh_time, gce_time, title=\"LSTM text generation\")"
   ]
  },
  {
   "cell_type": "markdown",
   "metadata": {
    "collapsed": true
   },
   "source": [
    "## Summary\n",
    "\n",
    "At the moment FH GPU instance seems a bit faster than GCE'K80. AWS soon."
   ]
  }
 ],
 "metadata": {
  "kernelspec": {
   "display_name": "Python 3",
   "language": "python",
   "name": "python3"
  },
  "language_info": {
   "codemirror_mode": {
    "name": "ipython",
    "version": 3
   },
   "file_extension": ".py",
   "mimetype": "text/x-python",
   "name": "python",
   "nbconvert_exporter": "python",
   "pygments_lexer": "ipython3",
   "version": "3.5.3"
  }
 },
 "nbformat": 4,
 "nbformat_minor": 2
}
